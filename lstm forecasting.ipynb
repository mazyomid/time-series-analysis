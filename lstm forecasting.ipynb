{
 "cells": [
  {
   "cell_type": "code",
   "execution_count": 4,
   "id": "bef6f377-7b8a-47cc-8865-ed47219879a9",
   "metadata": {},
   "outputs": [],
   "source": [
    "import tensorflow"
   ]
  },
  {
   "cell_type": "code",
   "execution_count": 61,
   "id": "821398a2-085a-4ad0-9e73-f57c4c5a913b",
   "metadata": {},
   "outputs": [],
   "source": [
    "import pandas as pd\n",
    "import sklearn\n",
    "import numpy as np\n",
    "from tensorflow import keras\n",
    "import matplotlib.pyplot as plt"
   ]
  },
  {
   "cell_type": "code",
   "execution_count": 6,
   "id": "a54503aa-c188-46fa-bf41-4fcd522d05f6",
   "metadata": {},
   "outputs": [],
   "source": [
    "from tensorflow.keras.preprocessing.sequence import TimeseriesGenerator   "
   ]
  },
  {
   "cell_type": "code",
   "execution_count": 7,
   "id": "37f1b621-1d79-42a4-847a-f47394a31626",
   "metadata": {},
   "outputs": [],
   "source": [
    "data=pd.read_csv('Data/Alcohol_Sales.csv',index_col=0,parse_dates=True)"
   ]
  },
  {
   "cell_type": "code",
   "execution_count": 10,
   "id": "1614ca10-5db1-42e0-8a7b-c403457ccb4e",
   "metadata": {
    "collapsed": true,
    "jupyter": {
     "outputs_hidden": true
    },
    "tags": []
   },
   "outputs": [
    {
     "data": {
      "text/html": [
       "<div>\n",
       "<style scoped>\n",
       "    .dataframe tbody tr th:only-of-type {\n",
       "        vertical-align: middle;\n",
       "    }\n",
       "\n",
       "    .dataframe tbody tr th {\n",
       "        vertical-align: top;\n",
       "    }\n",
       "\n",
       "    .dataframe thead th {\n",
       "        text-align: right;\n",
       "    }\n",
       "</style>\n",
       "<table border=\"1\" class=\"dataframe\">\n",
       "  <thead>\n",
       "    <tr style=\"text-align: right;\">\n",
       "      <th></th>\n",
       "      <th>sales</th>\n",
       "    </tr>\n",
       "    <tr>\n",
       "      <th>DATE</th>\n",
       "      <th></th>\n",
       "    </tr>\n",
       "  </thead>\n",
       "  <tbody>\n",
       "    <tr>\n",
       "      <th>1992-01-01</th>\n",
       "      <td>3459</td>\n",
       "    </tr>\n",
       "    <tr>\n",
       "      <th>1992-02-01</th>\n",
       "      <td>3458</td>\n",
       "    </tr>\n",
       "    <tr>\n",
       "      <th>1992-03-01</th>\n",
       "      <td>4002</td>\n",
       "    </tr>\n",
       "    <tr>\n",
       "      <th>1992-04-01</th>\n",
       "      <td>4564</td>\n",
       "    </tr>\n",
       "    <tr>\n",
       "      <th>1992-05-01</th>\n",
       "      <td>4221</td>\n",
       "    </tr>\n",
       "    <tr>\n",
       "      <th>...</th>\n",
       "      <td>...</td>\n",
       "    </tr>\n",
       "    <tr>\n",
       "      <th>2018-09-01</th>\n",
       "      <td>12396</td>\n",
       "    </tr>\n",
       "    <tr>\n",
       "      <th>2018-10-01</th>\n",
       "      <td>13914</td>\n",
       "    </tr>\n",
       "    <tr>\n",
       "      <th>2018-11-01</th>\n",
       "      <td>14174</td>\n",
       "    </tr>\n",
       "    <tr>\n",
       "      <th>2018-12-01</th>\n",
       "      <td>15504</td>\n",
       "    </tr>\n",
       "    <tr>\n",
       "      <th>2019-01-01</th>\n",
       "      <td>10718</td>\n",
       "    </tr>\n",
       "  </tbody>\n",
       "</table>\n",
       "<p>325 rows × 1 columns</p>\n",
       "</div>"
      ],
      "text/plain": [
       "            sales\n",
       "DATE             \n",
       "1992-01-01   3459\n",
       "1992-02-01   3458\n",
       "1992-03-01   4002\n",
       "1992-04-01   4564\n",
       "1992-05-01   4221\n",
       "...           ...\n",
       "2018-09-01  12396\n",
       "2018-10-01  13914\n",
       "2018-11-01  14174\n",
       "2018-12-01  15504\n",
       "2019-01-01  10718\n",
       "\n",
       "[325 rows x 1 columns]"
      ]
     },
     "execution_count": 10,
     "metadata": {},
     "output_type": "execute_result"
    }
   ],
   "source": [
    "data.columns=['sales']\n",
    "data"
   ]
  },
  {
   "cell_type": "code",
   "execution_count": 11,
   "id": "55a28efb-d22c-4554-8b5e-a7de78e04a20",
   "metadata": {},
   "outputs": [
    {
     "data": {
      "text/plain": [
       "325"
      ]
     },
     "execution_count": 11,
     "metadata": {},
     "output_type": "execute_result"
    }
   ],
   "source": [
    "len(data)"
   ]
  },
  {
   "cell_type": "code",
   "execution_count": 12,
   "id": "d9feaf33-249a-4314-8c38-c937ebed2082",
   "metadata": {},
   "outputs": [
    {
     "data": {
      "text/plain": [
       "313"
      ]
     },
     "execution_count": 12,
     "metadata": {},
     "output_type": "execute_result"
    }
   ],
   "source": [
    "325-12"
   ]
  },
  {
   "cell_type": "code",
   "execution_count": 13,
   "id": "c8b9c0df-9b11-4631-b3b8-deace350f42a",
   "metadata": {},
   "outputs": [],
   "source": [
    "train=data.iloc[:313]\n",
    "test = data.iloc[313:]"
   ]
  },
  {
   "cell_type": "code",
   "execution_count": 14,
   "id": "1daa9f6d-261b-49d3-9635-0a248318bd58",
   "metadata": {},
   "outputs": [],
   "source": [
    "from sklearn.preprocessing import MinMaxScaler"
   ]
  },
  {
   "cell_type": "code",
   "execution_count": 24,
   "id": "c45609ef-faf9-4c5c-b053-b4eebc66393c",
   "metadata": {},
   "outputs": [
    {
     "data": {
      "text/plain": [
       "MinMaxScaler()"
      ]
     },
     "execution_count": 24,
     "metadata": {},
     "output_type": "execute_result"
    }
   ],
   "source": [
    "scaler = MinMaxScaler()\n",
    "scaler.fit(train)"
   ]
  },
  {
   "cell_type": "code",
   "execution_count": 25,
   "id": "5e71920f-eb99-4299-a81e-672724b0ad58",
   "metadata": {},
   "outputs": [],
   "source": [
    "scales_train=scaler.transform(train)"
   ]
  },
  {
   "cell_type": "code",
   "execution_count": 26,
   "id": "3230b6f5-711c-424c-a4bd-74b9c3ffc5de",
   "metadata": {},
   "outputs": [],
   "source": [
    "scaled_test = scaler.transform(test)"
   ]
  },
  {
   "cell_type": "code",
   "execution_count": null,
   "id": "229780a4-090c-4e56-8cf2-a9517e708049",
   "metadata": {},
   "outputs": [],
   "source": []
  },
  {
   "cell_type": "code",
   "execution_count": 43,
   "id": "f075937c-9a51-40e8-b654-7bca84200adf",
   "metadata": {},
   "outputs": [],
   "source": [
    "n_feature=1\n",
    "n_input=12\n",
    "generator= TimeseriesGenerator(scales_train,scales_train,length=n_input,batch_size=1)"
   ]
  },
  {
   "cell_type": "code",
   "execution_count": 44,
   "id": "cbb443bb-182b-4aa4-a260-d5faeb42090d",
   "metadata": {},
   "outputs": [],
   "source": [
    "x,y =generator[0]"
   ]
  },
  {
   "cell_type": "code",
   "execution_count": 45,
   "id": "41e660af-e2ea-49cb-a053-075e0a934bc8",
   "metadata": {},
   "outputs": [
    {
     "data": {
      "text/plain": [
       "array([[[0.03658432],\n",
       "        [0.03649885],\n",
       "        [0.08299855],\n",
       "        [0.13103684],\n",
       "        [0.1017181 ],\n",
       "        [0.12804513],\n",
       "        [0.12266006],\n",
       "        [0.09453799],\n",
       "        [0.09359774],\n",
       "        [0.10496624],\n",
       "        [0.10334217],\n",
       "        [0.16283443]]])"
      ]
     },
     "execution_count": 45,
     "metadata": {},
     "output_type": "execute_result"
    }
   ],
   "source": [
    "x"
   ]
  },
  {
   "cell_type": "code",
   "execution_count": 46,
   "id": "c547e2a1-55c3-44ab-84ac-a5a645e40f84",
   "metadata": {},
   "outputs": [
    {
     "data": {
      "text/plain": [
       "array([[0.]])"
      ]
     },
     "execution_count": 46,
     "metadata": {},
     "output_type": "execute_result"
    }
   ],
   "source": [
    "y"
   ]
  },
  {
   "cell_type": "code",
   "execution_count": 47,
   "id": "af79971c-8b47-46e2-9977-200c1d0ddd99",
   "metadata": {},
   "outputs": [],
   "source": [
    "from tensorflow.keras.layers import LSTM,Dense\n",
    "from tensorflow.keras.models import Sequential"
   ]
  },
  {
   "cell_type": "code",
   "execution_count": 48,
   "id": "0f51d525-5a45-4b5f-8d05-7ad964b4eff1",
   "metadata": {},
   "outputs": [],
   "source": [
    "model = Sequential ()"
   ]
  },
  {
   "cell_type": "code",
   "execution_count": 49,
   "id": "cd9be157-58f0-4c79-8ec7-f5470af2cf3d",
   "metadata": {},
   "outputs": [],
   "source": [
    "model.add(LSTM(100,activation='relu',input_shape=(n_input,n_feature)))"
   ]
  },
  {
   "cell_type": "code",
   "execution_count": 50,
   "id": "29937742-5ada-405c-9971-e54a001ae496",
   "metadata": {},
   "outputs": [],
   "source": [
    "model.add(Dense(1))"
   ]
  },
  {
   "cell_type": "code",
   "execution_count": 53,
   "id": "9c94a842-8779-40cc-acbb-fe082d3a76a7",
   "metadata": {},
   "outputs": [],
   "source": [
    "model.compile(optimizer='adam',loss='mse')"
   ]
  },
  {
   "cell_type": "code",
   "execution_count": 54,
   "id": "311aff7b-9945-4128-829e-41f79f1c0737",
   "metadata": {
    "collapsed": true,
    "jupyter": {
     "outputs_hidden": true
    },
    "tags": []
   },
   "outputs": [
    {
     "name": "stdout",
     "output_type": "stream",
     "text": [
      "Epoch 1/50\n",
      "301/301 [==============================] - 5s 8ms/step - loss: 0.0220\n",
      "Epoch 2/50\n",
      "301/301 [==============================] - 3s 8ms/step - loss: 0.0090\n",
      "Epoch 3/50\n",
      "301/301 [==============================] - 3s 8ms/step - loss: 0.0086\n",
      "Epoch 4/50\n",
      "301/301 [==============================] - 2s 8ms/step - loss: 0.0080\n",
      "Epoch 5/50\n",
      "301/301 [==============================] - 3s 8ms/step - loss: 0.0072\n",
      "Epoch 6/50\n",
      "301/301 [==============================] - 3s 8ms/step - loss: 0.0055\n",
      "Epoch 7/50\n",
      "301/301 [==============================] - 3s 9ms/step - loss: 0.0048\n",
      "Epoch 8/50\n",
      "301/301 [==============================] - 3s 8ms/step - loss: 0.0035\n",
      "Epoch 9/50\n",
      "301/301 [==============================] - 3s 8ms/step - loss: 0.0034\n",
      "Epoch 10/50\n",
      "301/301 [==============================] - 3s 9ms/step - loss: 0.0030\n",
      "Epoch 11/50\n",
      "301/301 [==============================] - 3s 9ms/step - loss: 0.0024\n",
      "Epoch 12/50\n",
      "301/301 [==============================] - 3s 9ms/step - loss: 0.0022\n",
      "Epoch 13/50\n",
      "301/301 [==============================] - 3s 9ms/step - loss: 0.0020\n",
      "Epoch 14/50\n",
      "301/301 [==============================] - 3s 9ms/step - loss: 0.0017\n",
      "Epoch 15/50\n",
      "301/301 [==============================] - 3s 9ms/step - loss: 0.0017A: 0s - lo\n",
      "Epoch 16/50\n",
      "301/301 [==============================] - 3s 10ms/step - loss: 0.0017\n",
      "Epoch 17/50\n",
      "301/301 [==============================] - 3s 10ms/step - loss: 0.0017\n",
      "Epoch 18/50\n",
      "301/301 [==============================] - 3s 9ms/step - loss: 0.0015\n",
      "Epoch 19/50\n",
      "301/301 [==============================] - 3s 9ms/step - loss: 0.0017\n",
      "Epoch 20/50\n",
      "301/301 [==============================] - 3s 9ms/step - loss: 0.0018\n",
      "Epoch 21/50\n",
      "301/301 [==============================] - 3s 9ms/step - loss: 0.0016\n",
      "Epoch 22/50\n",
      "301/301 [==============================] - 3s 9ms/step - loss: 0.0016\n",
      "Epoch 23/50\n",
      "301/301 [==============================] - 3s 9ms/step - loss: 0.0018\n",
      "Epoch 24/50\n",
      "301/301 [==============================] - 3s 9ms/step - loss: 0.0018\n",
      "Epoch 25/50\n",
      "301/301 [==============================] - 3s 9ms/step - loss: 0.0016\n",
      "Epoch 26/50\n",
      "301/301 [==============================] - 3s 9ms/step - loss: 0.0015\n",
      "Epoch 27/50\n",
      "301/301 [==============================] - 3s 9ms/step - loss: 0.0015\n",
      "Epoch 28/50\n",
      "301/301 [==============================] - 3s 9ms/step - loss: 0.0016\n",
      "Epoch 29/50\n",
      "301/301 [==============================] - 3s 9ms/step - loss: 0.0015\n",
      "Epoch 30/50\n",
      "301/301 [==============================] - 3s 9ms/step - loss: 0.0013\n",
      "Epoch 31/50\n",
      "301/301 [==============================] - 3s 9ms/step - loss: 0.0014\n",
      "Epoch 32/50\n",
      "301/301 [==============================] - 3s 9ms/step - loss: 0.0013\n",
      "Epoch 33/50\n",
      "301/301 [==============================] - 3s 9ms/step - loss: 0.0014\n",
      "Epoch 34/50\n",
      "301/301 [==============================] - 3s 9ms/step - loss: 0.0014\n",
      "Epoch 35/50\n",
      "301/301 [==============================] - ETA: 0s - loss: 0.001 - 3s 9ms/step - loss: 0.0013\n",
      "Epoch 36/50\n",
      "301/301 [==============================] - 3s 9ms/step - loss: 0.0013\n",
      "Epoch 37/50\n",
      "301/301 [==============================] - 3s 9ms/step - loss: 0.0018\n",
      "Epoch 38/50\n",
      "301/301 [==============================] - 3s 9ms/step - loss: 0.0013\n",
      "Epoch 39/50\n",
      "301/301 [==============================] - 3s 9ms/step - loss: 0.0015A: 0s - loss: 0.0\n",
      "Epoch 40/50\n",
      "301/301 [==============================] - 3s 10ms/step - loss: 0.0017\n",
      "Epoch 41/50\n",
      "301/301 [==============================] - 3s 10ms/step - loss: 0.0014\n",
      "Epoch 42/50\n",
      "301/301 [==============================] - 3s 9ms/step - loss: 0.0013\n",
      "Epoch 43/50\n",
      "301/301 [==============================] - 3s 9ms/step - loss: 0.0013A: 0s - loss: 0.\n",
      "Epoch 44/50\n",
      "301/301 [==============================] - 3s 9ms/step - loss: 0.0013\n",
      "Epoch 45/50\n",
      "301/301 [==============================] - 3s 9ms/step - loss: 0.0013\n",
      "Epoch 46/50\n",
      "301/301 [==============================] - 3s 9ms/step - loss: 0.0015\n",
      "Epoch 47/50\n",
      "301/301 [==============================] - 3s 9ms/step - loss: 0.0013\n",
      "Epoch 48/50\n",
      "301/301 [==============================] - 3s 9ms/step - loss: 0.0013\n",
      "Epoch 49/50\n",
      "301/301 [==============================] - 3s 9ms/step - loss: 0.0014\n",
      "Epoch 50/50\n",
      "301/301 [==============================] - 3s 9ms/step - loss: 0.0014\n"
     ]
    },
    {
     "data": {
      "text/plain": [
       "<tensorflow.python.keras.callbacks.History at 0x258cf90c310>"
      ]
     },
     "execution_count": 54,
     "metadata": {},
     "output_type": "execute_result"
    }
   ],
   "source": [
    "model.fit_generator(generator,epochs=50)"
   ]
  },
  {
   "cell_type": "code",
   "execution_count": 66,
   "id": "63ec97f5-07b4-4d75-8761-85d9cdb6f068",
   "metadata": {},
   "outputs": [
    {
     "data": {
      "text/plain": [
       "[<matplotlib.lines.Line2D at 0x258d77dff10>]"
      ]
     },
     "execution_count": 66,
     "metadata": {},
     "output_type": "execute_result"
    },
    {
     "data": {
      "image/png": "[encoded data removed]",
      "text/plain": [
       "<Figure size 432x288 with 1 Axes>"
      ]
     },
     "metadata": {
      "needs_background": "light"
     },
     "output_type": "display_data"
    }
   ],
   "source": [
    "loss=model.history.history['loss']\n",
    "plt.plot(range(len(loss)),loss)"
   ]
  },
  {
   "cell_type": "markdown",
   "id": "e20df106-2c28-43ef-93a9-cdb26980717b",
   "metadata": {},
   "source": [
    "# evaluation"
   ]
  },
  {
   "cell_type": "code",
   "execution_count": 67,
   "id": "dd765a27-cc17-49c4-bd97-0a213f4cbeb3",
   "metadata": {},
   "outputs": [],
   "source": [
    "test_predictions = []\n",
    "\n",
    "first_eval_batch = scales_train[-n_input:]\n",
    "current_batch = first_eval_batch.reshape((1, n_input, n_feature))\n",
    "\n",
    "for i in range(len(test)):\n",
    "    \n",
    "    # get prediction 1 time stamp ahead ([0] is for grabbing just the number instead of [array])\n",
    "    current_pred = model.predict(current_batch)[0]\n",
    "    \n",
    "    # store prediction\n",
    "    test_predictions.append(current_pred) \n",
    "    \n",
    "    # update batch to now include prediction and drop first value\n",
    "    current_batch = np.append(current_batch[:,1:,:],[[current_pred]],axis=1)"
   ]
  },
  {
   "cell_type": "code",
   "execution_count": 69,
   "id": "0654f981-5ced-4ed5-8cae-070b2a3bb466",
   "metadata": {},
   "outputs": [],
   "source": [
    "true_predictions=scaler.inverse_transform(test_predictions)"
   ]
  },
  {
   "cell_type": "code",
   "execution_count": 70,
   "id": "9c760052-46e0-4ce4-acad-ebebdf586855",
   "metadata": {
    "collapsed": true,
    "jupyter": {
     "outputs_hidden": true
    },
    "tags": []
   },
   "outputs": [
    {
     "name": "stderr",
     "output_type": "stream",
     "text": [
      "C:\\Users\\marziyeh\\AppData\\Local\\Temp\\ipykernel_11456\\970091196.py:1: SettingWithCopyWarning: \n",
      "A value is trying to be set on a copy of a slice from a DataFrame.\n",
      "Try using .loc[row_indexer,col_indexer] = value instead\n",
      "\n",
      "See the caveats in the documentation: https://pandas.pydata.org/pandas-docs/stable/user_guide/indexing.html#returning-a-view-versus-a-copy\n",
      "  test['Predictions'] = true_predictions\n"
     ]
    },
    {
     "data": {
      "text/html": [
       "<div>\n",
       "<style scoped>\n",
       "    .dataframe tbody tr th:only-of-type {\n",
       "        vertical-align: middle;\n",
       "    }\n",
       "\n",
       "    .dataframe tbody tr th {\n",
       "        vertical-align: top;\n",
       "    }\n",
       "\n",
       "    .dataframe thead th {\n",
       "        text-align: right;\n",
       "    }\n",
       "</style>\n",
       "<table border=\"1\" class=\"dataframe\">\n",
       "  <thead>\n",
       "    <tr style=\"text-align: right;\">\n",
       "      <th></th>\n",
       "      <th>sales</th>\n",
       "      <th>Predictions</th>\n",
       "    </tr>\n",
       "    <tr>\n",
       "      <th>DATE</th>\n",
       "      <th></th>\n",
       "      <th></th>\n",
       "    </tr>\n",
       "  </thead>\n",
       "  <tbody>\n",
       "    <tr>\n",
       "      <th>2018-02-01</th>\n",
       "      <td>10415</td>\n",
       "      <td>11514.309371</td>\n",
       "    </tr>\n",
       "    <tr>\n",
       "      <th>2018-03-01</th>\n",
       "      <td>12683</td>\n",
       "      <td>12838.012178</td>\n",
       "    </tr>\n",
       "    <tr>\n",
       "      <th>2018-04-01</th>\n",
       "      <td>11919</td>\n",
       "      <td>12396.469696</td>\n",
       "    </tr>\n",
       "    <tr>\n",
       "      <th>2018-05-01</th>\n",
       "      <td>14138</td>\n",
       "      <td>14398.345953</td>\n",
       "    </tr>\n",
       "    <tr>\n",
       "      <th>2018-06-01</th>\n",
       "      <td>14583</td>\n",
       "      <td>15166.122952</td>\n",
       "    </tr>\n",
       "    <tr>\n",
       "      <th>2018-07-01</th>\n",
       "      <td>12640</td>\n",
       "      <td>12180.260288</td>\n",
       "    </tr>\n",
       "    <tr>\n",
       "      <th>2018-08-01</th>\n",
       "      <td>14257</td>\n",
       "      <td>14001.523660</td>\n",
       "    </tr>\n",
       "    <tr>\n",
       "      <th>2018-09-01</th>\n",
       "      <td>12396</td>\n",
       "      <td>12431.728719</td>\n",
       "    </tr>\n",
       "    <tr>\n",
       "      <th>2018-10-01</th>\n",
       "      <td>13914</td>\n",
       "      <td>13441.556215</td>\n",
       "    </tr>\n",
       "    <tr>\n",
       "      <th>2018-11-01</th>\n",
       "      <td>14174</td>\n",
       "      <td>13942.908777</td>\n",
       "    </tr>\n",
       "    <tr>\n",
       "      <th>2018-12-01</th>\n",
       "      <td>15504</td>\n",
       "      <td>14772.583616</td>\n",
       "    </tr>\n",
       "    <tr>\n",
       "      <th>2019-01-01</th>\n",
       "      <td>10718</td>\n",
       "      <td>10291.662811</td>\n",
       "    </tr>\n",
       "  </tbody>\n",
       "</table>\n",
       "</div>"
      ],
      "text/plain": [
       "            sales   Predictions\n",
       "DATE                           \n",
       "2018-02-01  10415  11514.309371\n",
       "2018-03-01  12683  12838.012178\n",
       "2018-04-01  11919  12396.469696\n",
       "2018-05-01  14138  14398.345953\n",
       "2018-06-01  14583  15166.122952\n",
       "2018-07-01  12640  12180.260288\n",
       "2018-08-01  14257  14001.523660\n",
       "2018-09-01  12396  12431.728719\n",
       "2018-10-01  13914  13441.556215\n",
       "2018-11-01  14174  13942.908777\n",
       "2018-12-01  15504  14772.583616\n",
       "2019-01-01  10718  10291.662811"
      ]
     },
     "execution_count": 70,
     "metadata": {},
     "output_type": "execute_result"
    }
   ],
   "source": [
    "test['Predictions'] = true_predictions"
   ]
  },
  {
   "cell_type": "code",
   "execution_count": 73,
   "id": "8e8a72cc-4b42-47f5-93e0-bf2925e94396",
   "metadata": {},
   "outputs": [
    {
     "data": {
      "text/html": [
       "<div>\n",
       "<style scoped>\n",
       "    .dataframe tbody tr th:only-of-type {\n",
       "        vertical-align: middle;\n",
       "    }\n",
       "\n",
       "    .dataframe tbody tr th {\n",
       "        vertical-align: top;\n",
       "    }\n",
       "\n",
       "    .dataframe thead th {\n",
       "        text-align: right;\n",
       "    }\n",
       "</style>\n",
       "<table border=\"1\" class=\"dataframe\">\n",
       "  <thead>\n",
       "    <tr style=\"text-align: right;\">\n",
       "      <th></th>\n",
       "      <th>sales</th>\n",
       "      <th>Predictions</th>\n",
       "    </tr>\n",
       "    <tr>\n",
       "      <th>DATE</th>\n",
       "      <th></th>\n",
       "      <th></th>\n",
       "    </tr>\n",
       "  </thead>\n",
       "  <tbody>\n",
       "    <tr>\n",
       "      <th>2018-02-01</th>\n",
       "      <td>10415</td>\n",
       "      <td>11514.309371</td>\n",
       "    </tr>\n",
       "    <tr>\n",
       "      <th>2018-03-01</th>\n",
       "      <td>12683</td>\n",
       "      <td>12838.012178</td>\n",
       "    </tr>\n",
       "    <tr>\n",
       "      <th>2018-04-01</th>\n",
       "      <td>11919</td>\n",
       "      <td>12396.469696</td>\n",
       "    </tr>\n",
       "  </tbody>\n",
       "</table>\n",
       "</div>"
      ],
      "text/plain": [
       "            sales   Predictions\n",
       "DATE                           \n",
       "2018-02-01  10415  11514.309371\n",
       "2018-03-01  12683  12838.012178\n",
       "2018-04-01  11919  12396.469696"
      ]
     },
     "execution_count": 73,
     "metadata": {},
     "output_type": "execute_result"
    }
   ],
   "source": [
    "test.head(3)"
   ]
  },
  {
   "cell_type": "code",
   "execution_count": 71,
   "id": "337e22bd-3d74-4275-96fc-7d2f0c42abc3",
   "metadata": {},
   "outputs": [
    {
     "data": {
      "text/plain": [
       "<AxesSubplot:xlabel='DATE'>"
      ]
     },
     "execution_count": 71,
     "metadata": {},
     "output_type": "execute_result"
    },
    {
     "data": {
      "image/png": "[encoded data removed]",
      "text/plain": [
       "<Figure size 864x576 with 1 Axes>"
      ]
     },
     "metadata": {
      "needs_background": "light"
     },
     "output_type": "display_data"
    }
   ],
   "source": [
    "test.plot(figsize=(12,8))"
   ]
  },
  {
   "cell_type": "code",
   "execution_count": null,
   "id": "ea14776d-1920-4f8d-8c1c-5c61d06ca62f",
   "metadata": {},
   "outputs": [],
   "source": []
  }
 ],
 "metadata": {
  "kernelspec": {
   "display_name": "tf",
   "language": "python",
   "name": "tf"
  },
  "language_info": {
   "codemirror_mode": {
    "name": "ipython",
    "version": 3
   },
   "file_extension": ".py",
   "mimetype": "text/x-python",
   "name": "python",
   "nbconvert_exporter": "python",
   "pygments_lexer": "ipython3",
   "version": "3.9.11"
  }
 },
 "nbformat": 4,
 "nbformat_minor": 5
}
